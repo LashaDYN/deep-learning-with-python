{
 "cells": [
  {
   "cell_type": "code",
   "execution_count": 2,
   "metadata": {},
   "outputs": [
    {
     "data": {
      "text/plain": [
       "'2.2.4'"
      ]
     },
     "execution_count": 2,
     "metadata": {},
     "output_type": "execute_result"
    }
   ],
   "source": [
    "import keras\n",
    "keras.__version__"
   ]
  },
  {
   "cell_type": "code",
   "execution_count": 12,
   "metadata": {},
   "outputs": [],
   "source": [
    "from keras.datasets import reuters\n",
    "\n",
    "(train_data, train_labels), (test_data, test_labels) = reuters.load_data(num_words = 10000)"
   ]
  },
  {
   "cell_type": "code",
   "execution_count": 13,
   "metadata": {},
   "outputs": [],
   "source": [
    "word_index = reuters.get_word_index()\n",
    "reverse_word_index = dict([(value, key) for (key,value) in word_index.items()])\n",
    "decoded_newswire = ' '.join([reverse_word_index.get(i - 3, '?') for i in train_data[0]])"
   ]
  },
  {
   "cell_type": "code",
   "execution_count": 14,
   "metadata": {},
   "outputs": [
    {
     "data": {
      "text/plain": [
       "'? ? ? said as a result of its december acquisition of space co it expects earnings per share in 1987 of 1 15 to 1 30 dlrs per share up from 70 cts in 1986 the company said pretax net should rise to nine to 10 mln dlrs from six mln dlrs in 1986 and rental operation revenues to 19 to 22 mln dlrs from 12 5 mln dlrs it said cash flow per share this year should be 2 50 to three dlrs reuter 3'"
      ]
     },
     "execution_count": 14,
     "metadata": {},
     "output_type": "execute_result"
    }
   ],
   "source": [
    "decoded_newswire"
   ]
  },
  {
   "cell_type": "code",
   "execution_count": 15,
   "metadata": {},
   "outputs": [],
   "source": [
    "import numpy as np\n",
    "\n",
    "def vectorize_sequences(sequences, dimension = 10000):\n",
    "    results = np.zeros((len(sequences), dimension))\n",
    "    for i, sequence in enumerate(sequences):\n",
    "        results[i, sequence] = 1.\n",
    "    return results\n",
    "\n",
    "x_train = vectorize_sequences(train_data)\n",
    "x_test = vectorize_sequences(test_data)"
   ]
  },
  {
   "cell_type": "markdown",
   "metadata": {},
   "source": [
    "one-hot 编码"
   ]
  },
  {
   "cell_type": "code",
   "execution_count": 17,
   "metadata": {},
   "outputs": [],
   "source": [
    "def to_one_hot(labels, dimension = 46):\n",
    "    results = np.zeros((len(labels), dimension))\n",
    "    for i, label in enumerate(labels):\n",
    "        results[i, label] = 1.\n",
    "    return results\n",
    "\n",
    "one_hot_train_labels = to_one_hot(train_labels)\n",
    "one_hot_test_labels = to_one_hot(test_labels)"
   ]
  },
  {
   "cell_type": "markdown",
   "metadata": {},
   "source": [
    "Keras 内置 one-hot 编码方法"
   ]
  },
  {
   "cell_type": "code",
   "execution_count": null,
   "metadata": {},
   "outputs": [],
   "source": [
    "from keras.utils.np_utils import to_categorical\n",
    "\n",
    "one_hot_train_labels = to categorical(train_labels)\n",
    "one_hot_test_labels = to categorical(test_labels)"
   ]
  },
  {
   "cell_type": "code",
   "execution_count": 29,
   "metadata": {},
   "outputs": [],
   "source": [
    "from keras import models\n",
    "from keras import layers\n",
    "\n",
    "model = models.Sequential()\n",
    "model.add(layers.Dense(64, activation = 'relu', input_shape = (10000,)))\n",
    "model.add(layers.Dense(64,activation = 'relu'))\n",
    "model.add(layers.Dense(46,activation = 'softmax'))"
   ]
  },
  {
   "cell_type": "code",
   "execution_count": 30,
   "metadata": {},
   "outputs": [],
   "source": [
    "model.compile(optimizer = 'rmsprop',\n",
    "             loss = 'categorical_crossentropy',\n",
    "             metrics = ['accuracy'])"
   ]
  },
  {
   "cell_type": "code",
   "execution_count": 33,
   "metadata": {},
   "outputs": [],
   "source": [
    "x_val = x_train[:1000]\n",
    "partial_x_train = x_train[1000:]\n",
    "\n",
    "y_val = one_hot_train_labels[:1000]\n",
    "partial_y_train = one_hot_train_labels[1000:]"
   ]
  },
  {
   "cell_type": "code",
   "execution_count": 34,
   "metadata": {},
   "outputs": [
    {
     "name": "stdout",
     "output_type": "stream",
     "text": [
      "Train on 7982 samples, validate on 1000 samples\n",
      "Epoch 1/20\n",
      "7982/7982 [==============================] - 3s 318us/step - loss: 2.6079 - acc: 0.5273 - val_loss: 1.6794 - val_acc: 0.6340\n",
      "Epoch 2/20\n",
      "7982/7982 [==============================] - 2s 243us/step - loss: 1.3957 - acc: 0.7046 - val_loss: 1.2810 - val_acc: 0.7170\n",
      "Epoch 3/20\n",
      "7982/7982 [==============================] - 2s 247us/step - loss: 1.0527 - acc: 0.7702 - val_loss: 1.1197 - val_acc: 0.7550\n",
      "Epoch 4/20\n",
      "7982/7982 [==============================] - 2s 244us/step - loss: 0.8290 - acc: 0.8211 - val_loss: 1.0195 - val_acc: 0.7870\n",
      "Epoch 5/20\n",
      "7982/7982 [==============================] - 2s 246us/step - loss: 0.6638 - acc: 0.8599 - val_loss: 0.9689 - val_acc: 0.7990\n",
      "Epoch 6/20\n",
      "7982/7982 [==============================] - 2s 241us/step - loss: 0.5297 - acc: 0.8925 - val_loss: 0.9213 - val_acc: 0.8130\n",
      "Epoch 7/20\n",
      "7982/7982 [==============================] - 2s 244us/step - loss: 0.4284 - acc: 0.9109 - val_loss: 0.9193 - val_acc: 0.8070\n",
      "Epoch 8/20\n",
      "7982/7982 [==============================] - 2s 242us/step - loss: 0.3466 - acc: 0.9250 - val_loss: 0.9190 - val_acc: 0.8080\n",
      "Epoch 9/20\n",
      "7982/7982 [==============================] - 2s 245us/step - loss: 0.2895 - acc: 0.9355 - val_loss: 0.9085 - val_acc: 0.8140\n",
      "Epoch 10/20\n",
      "7982/7982 [==============================] - 2s 246us/step - loss: 0.2424 - acc: 0.9444 - val_loss: 0.8978 - val_acc: 0.8220\n",
      "Epoch 11/20\n",
      "7982/7982 [==============================] - 2s 243us/step - loss: 0.2113 - acc: 0.9494 - val_loss: 0.9047 - val_acc: 0.8080\n",
      "Epoch 12/20\n",
      "7982/7982 [==============================] - 2s 244us/step - loss: 0.1824 - acc: 0.9528 - val_loss: 0.9212 - val_acc: 0.8080\n",
      "Epoch 13/20\n",
      "7982/7982 [==============================] - 2s 246us/step - loss: 0.1691 - acc: 0.9524 - val_loss: 0.9572 - val_acc: 0.8090\n",
      "Epoch 14/20\n",
      "7982/7982 [==============================] - 2s 246us/step - loss: 0.1538 - acc: 0.9539 - val_loss: 0.9439 - val_acc: 0.8120\n",
      "Epoch 15/20\n",
      "7982/7982 [==============================] - 2s 246us/step - loss: 0.1438 - acc: 0.9539 - val_loss: 0.9786 - val_acc: 0.8070\n",
      "Epoch 16/20\n",
      "7982/7982 [==============================] - 2s 244us/step - loss: 0.1314 - acc: 0.9578 - val_loss: 0.9630 - val_acc: 0.8190\n",
      "Epoch 17/20\n",
      "7982/7982 [==============================] - 2s 244us/step - loss: 0.1213 - acc: 0.9580 - val_loss: 1.0215 - val_acc: 0.8090\n",
      "Epoch 18/20\n",
      "7982/7982 [==============================] - 2s 247us/step - loss: 0.1229 - acc: 0.9567 - val_loss: 1.0136 - val_acc: 0.8040\n",
      "Epoch 19/20\n",
      "7982/7982 [==============================] - 2s 248us/step - loss: 0.1156 - acc: 0.9568 - val_loss: 1.0621 - val_acc: 0.8100\n",
      "Epoch 20/20\n",
      "7982/7982 [==============================] - 2s 244us/step - loss: 0.1129 - acc: 0.9578 - val_loss: 1.0488 - val_acc: 0.8050\n"
     ]
    }
   ],
   "source": [
    "history = model.fit(partial_x_train,\n",
    "                   partial_y_train,\n",
    "                   epochs = 20,\n",
    "                   batch_size = 512,\n",
    "                   validation_data = (x_val,y_val))"
   ]
  },
  {
   "cell_type": "code",
   "execution_count": 39,
   "metadata": {},
   "outputs": [
    {
     "data": {
      "text/plain": [
       "dict_keys(['val_loss', 'val_acc', 'loss', 'acc'])"
      ]
     },
     "execution_count": 39,
     "metadata": {},
     "output_type": "execute_result"
    }
   ],
   "source": [
    "history_dict = history.history \n",
    "history_dict.keys()"
   ]
  },
  {
   "cell_type": "code",
   "execution_count": 37,
   "metadata": {},
   "outputs": [
    {
     "data": {
      "image/png": "[encoded data removed]",
      "text/plain": [
       "<Figure size 432x288 with 1 Axes>"
      ]
     },
     "metadata": {
      "needs_background": "light"
     },
     "output_type": "display_data"
    }
   ],
   "source": [
    "import matplotlib.pyplot as plt\n",
    "\n",
    "\n",
    "loss_values = history_dict['loss']\n",
    "val_loss_values = history_dict['val_loss']\n",
    "\n",
    "epochs = range(1,len(loss_values)+ 1)\n",
    "\n",
    "plt.plot(epochs, loss_values,'bo',label = 'Training loss')\n",
    "plt.plot(epochs, val_loss_values, 'b', label = 'Validation loss')\n",
    "plt.title('Training and validation loss')\n",
    "plt.xlabel('Epochs')\n",
    "plt.ylabel('Loss')\n",
    "plt.legend()\n",
    "\n",
    "plt.show()"
   ]
  },
  {
   "cell_type": "code",
   "execution_count": null,
   "metadata": {},
   "outputs": [],
   "source": []
  },
  {
   "cell_type": "code",
   "execution_count": 40,
   "metadata": {},
   "outputs": [
    {
     "data": {
      "image/png": "[encoded data removed]",
      "text/plain": [
       "<Figure size 432x288 with 1 Axes>"
      ]
     },
     "metadata": {
      "needs_background": "light"
     },
     "output_type": "display_data"
    }
   ],
   "source": [
    "plt.clf()\n",
    "acc = history_dict['acc']\n",
    "val_acc = history_dict['val_acc']\n",
    "\n",
    "epochs = range(1,len(acc)+ 1)\n",
    "\n",
    "plt.plot(epochs, acc,'bo',label = 'Training acc')\n",
    "plt.plot(epochs, val_acc, 'b', label = 'Validation acc')\n",
    "plt.title('Training and validation accuracy')\n",
    "plt.xlabel('Epochs')\n",
    "plt.ylabel('Accuracy')\n",
    "plt.legend()\n",
    "\n",
    "plt.show()"
   ]
  },
  {
   "cell_type": "code",
   "execution_count": null,
   "metadata": {},
   "outputs": [],
   "source": []
  }
 ],
 "metadata": {
  "kernelspec": {
   "display_name": "Python 3",
   "language": "python",
   "name": "python3"
  },
  "language_info": {
   "codemirror_mode": {
    "name": "ipython",
    "version": 3
   },
   "file_extension": ".py",
   "mimetype": "text/x-python",
   "name": "python",
   "nbconvert_exporter": "python",
   "pygments_lexer": "ipython3",
   "version": "3.6.8"
  }
 },
 "nbformat": 4,
 "nbformat_minor": 2
}
